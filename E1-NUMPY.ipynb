{
 "cells": [
  {
   "cell_type": "code",
   "execution_count": 5,
   "metadata": {},
   "outputs": [],
   "source": [
    "import numpy as np"
   ]
  },
  {
   "cell_type": "code",
   "execution_count": 2,
   "metadata": {},
   "outputs": [
    {
     "name": "stdout",
     "output_type": "stream",
     "text": [
      "0.13999999999999993\n"
     ]
    }
   ],
   "source": [
    "# 01 - Implemente a função MSE utilizando numpy. \n",
    "# Crie a função de forma que ela possa receber \n",
    "# vetores 1-D (1 dimensão) de qualquer tamanho n.\n",
    "\n",
    "y_true = np.array([1, 2, 3, 4, 5])\n",
    "y_pred = np.array([1.2, 2.5, 3.1, 4.6, 5.2])\n",
    "\n",
    "def mse(a,b):\n",
    "    mse = ((a - b)**2).mean()\n",
    "    return mse\n",
    "\n",
    "print(mse(y_true, y_pred))"
   ]
  },
  {
   "cell_type": "code",
   "execution_count": 1,
   "metadata": {},
   "outputs": [
    {
     "name": "stdout",
     "output_type": "stream",
     "text": [
      "0\n",
      "255\n"
     ]
    }
   ],
   "source": [
    "# 02 - Utilize o opencv para ler uma imagem RGB (I). \n",
    "# Verifique o range dos valores de entrada e aplique \n",
    "# a normalização na imagem (x - min(I)/ max(I) - min(I))\n",
    "\n",
    "from cv2 import imread, waitKey, imshow, destroyAllWindows\n",
    "from numpy import min, max\n",
    "\n",
    "# Ler a imagem em RGB\n",
    "img = imread('dog.jpg')  \n",
    "\n",
    "# Verificar o range de valores da imagem\n",
    "min_val = min(img)\n",
    "max_val = max(img)\n",
    "print(min_val)\n",
    "print(max_val)\n",
    "\n",
    "# Aplicar a normalização\n",
    "img_normalizada = (img - min_val) / (max_val - min_val)\n",
    "\n",
    "# Mostrar a imagem original e normalizada para comparação\n",
    "imshow('Imagem Original', img)\n",
    "imshow('Imagem Normalizada', img_normalizada)\n",
    "\n",
    "waitKey(0)\n",
    "destroyAllWindows()"
   ]
  },
  {
   "cell_type": "code",
   "execution_count": 15,
   "metadata": {},
   "outputs": [
    {
     "name": "stdout",
     "output_type": "stream",
     "text": [
      "[1.71043879 0.64734824 0.17693829 0.86152541 0.37448767 0.37268415\n",
      " 1.20062752 1.08968789 0.48925011 0.03301848]\n",
      "[1.7104387928793747, 0.6473482369794785, 0.17693829197253863, 0.8615254109418637, 0.37448766974520886, 0.3726841500407134, 1.2006275173409704, 1.0896878922242237, 0.4892501132746534, 0.03301848279777908]\n"
     ]
    }
   ],
   "source": [
    "# 03 - Crie um array de tamanho N com numeros aleatorios entre 0 e 2. \n",
    "# Aplique um filtro no array para transformar todos os valores 0 em -1.\n",
    "n = 10\n",
    "a = np.random.rand(n)*2\n",
    "print(a)\n",
    "b = list(filter(lambda x: -1 if x==0 else x, a))\n",
    "print(b)"
   ]
  },
  {
   "cell_type": "code",
   "execution_count": 16,
   "metadata": {},
   "outputs": [
    {
     "name": "stdout",
     "output_type": "stream",
     "text": [
      "Dimensão da imagem original: (148, 148, 3)\n",
      "Dimensão da imagem em tons de cinza: (148, 148)\n",
      "Dimensão da imagem 1-D: (21904,)\n",
      "[255 255 255 ... 254 254 254]\n"
     ]
    }
   ],
   "source": [
    "'''\n",
    "04 - Transforme uma imagem 2-D em uma entrada válida \n",
    "para uma rede MLP. \n",
    "    * Leia a imagem utilizando o opencv. \n",
    "    * Transforme a imagem para tons de cinza. \n",
    "    * Em seguida, altere a imagem para que ela possua \n",
    "      apenas uma dimensão (1-D).\n",
    "'''\n",
    "import cv2\n",
    "img = cv2.imread('dog.jpg')  \n",
    "img_gray = cv2.cvtColor(img, cv2.COLOR_BGR2GRAY)\n",
    "img_1d = img_gray.flatten()#Alterna a imagem para uma dimensão (1-D)\n",
    "# Mostrando as dimensões da imagem original, cinza e 1-D para confirmação\n",
    "print(f\"Dimensão da imagem original: {img.shape}\")\n",
    "print(f\"Dimensão da imagem em tons de cinza: {img_gray.shape}\")\n",
    "print(f\"Dimensão da imagem 1-D: {img_1d.shape}\")\n",
    "print(img_1d)\n",
    "# Exibir as imagens original e a imagem em tons de cinza\n",
    "cv2.imshow('Imagem Original', img)\n",
    "cv2.imshow('Imagem em Tons de Cinza', img_gray)\n",
    "cv2.waitKey(0)\n",
    "cv2.destroyAllWindows()"
   ]
  },
  {
   "cell_type": "code",
   "execution_count": 17,
   "metadata": {},
   "outputs": [],
   "source": [
    "# 05 - Leia uma imagem em tons de cinza. \n",
    "# Realize 3 transformações copiando a imagem \n",
    "# em 3 variaveis distintas. Concatene essas \n",
    "# copias para gerar uma imagem de 3 canais. \n",
    "# Visualize o resultado final.\n",
    "\n",
    "img = cv2.imread('dog.jpg', cv2.IMREAD_GRAYSCALE)  \n",
    "imagem1 = cv2.bitwise_not(img) # Transformação 1: Inversão dos pixels (negativo)\n",
    "imagem2 = cv2.add(img, 50) # Transformação 2: Aumento do brilho (adiciona 50 em todos os pixels, com saturação em 255)\n",
    "imagem3 = cv2.multiply(img, 0.5) # Transformação 3: Redução do contraste (multiplica por 0.5, escurecendo a imagem)\n",
    "\n",
    "# Concatenação das 3 cópias para gerar uma imagem de 3 canais\n",
    "imagem_3_canais = cv2.merge([imagem1, imagem2, imagem3])\n",
    "\n",
    "# Visualização do resultado final\n",
    "cv2.imshow('Imagem 3 Canais', imagem_3_canais)\n",
    "cv2.imshow('Imagem em tons de cinza', img)\n",
    "cv2.waitKey(0)\n",
    "cv2.destroyAllWindows()"
   ]
  },
  {
   "cell_type": "code",
   "execution_count": 18,
   "metadata": {},
   "outputs": [
    {
     "name": "stdout",
     "output_type": "stream",
     "text": [
      "Formato do tensor PyTorch: torch.Size([3, 1, 128, 128])\n"
     ]
    }
   ],
   "source": [
    "# 06 - Leia 3 imagens em tons de cinza com o opencv. \n",
    "# Transforme as imagens para que elas possuam a mesma dimensão (H,W). \n",
    "# Você deve ter um array de dimensão (3,H,W).Transforme esse array \n",
    "# para um formato válido para o framework PyTorch (a dimensão final \n",
    "# deve ser (B,C,H,W), com B=3, C=1).\n",
    "\n",
    "import torch\n",
    "\n",
    "# 1. Leitura das 3 imagens em tons de cinza com o OpenCV\n",
    "imagem1 = cv2.imread('dog.jpg', cv2.IMREAD_GRAYSCALE)  # Substitua pelos caminhos das suas imagens\n",
    "imagem2 = cv2.imread('cat.jpg', cv2.IMREAD_GRAYSCALE)\n",
    "imagem3 = cv2.imread('bird.jpg', cv2.IMREAD_GRAYSCALE)\n",
    "\n",
    "# transformando as imagens para que elas possuam a mesma dimensão (H, W)\n",
    "# Definindo a dimensão desejada (por exemplo, 128x128)\n",
    "H, W = 128, 128\n",
    "imagem1_resized = cv2.resize(imagem1, (W, H))\n",
    "imagem2_resized = cv2.resize(imagem2, (W, H))\n",
    "imagem3_resized = cv2.resize(imagem3, (W, H))\n",
    "\n",
    "# criando um array de dimensão (3, H, W) onde cada imagem ocupa uma \"camada\"\n",
    "array_3hw = np.array([imagem1_resized, imagem2_resized, imagem3_resized])\n",
    "\n",
    "# transformando o array para o formato PyTorch (B, C, H, W), com B=3 e C=1\n",
    "# Adicionando um canal extra (C=1) para cada imagem\n",
    "array_pytorch = array_3hw[:, np.newaxis, :, :]  # Isso vai transformar para (3, 1, H, W)\n",
    "\n",
    "# Convertendo para um tensor do PyTorch\n",
    "tensor_pytorch = torch.tensor(array_pytorch, dtype=torch.float32)\n",
    "\n",
    "# Visualização da forma final do tensor\n",
    "print(f\"Formato do tensor PyTorch: {tensor_pytorch.shape}\")  # Deve ser (3, 1, H, W)\n"
   ]
  },
  {
   "cell_type": "code",
   "execution_count": null,
   "metadata": {},
   "outputs": [],
   "source": [
    "# 07 - Implemente as funções de ativação sigmoid, tanh, e ReLU.\n",
    "# Função de ativação Sigmoid\n",
    "def sigmoid(x):\n",
    "    return 1 / (1 + np.exp(-x))\n",
    "# Função de ativação Tanh (Tangente Hiperbólica)\n",
    "def tanh(x):\n",
    "    return np.tanh(x)\n",
    "# Função de ativação ReLU (Rectified Linear Unit)\n",
    "def relu(x):\n",
    "    return np.maximum(0, x)\n",
    "# Testando as funções de ativação\n",
    "x = np.array([-2, -1, 0, 1, 2])\n",
    "print(\"Sigmoid:\", sigmoid(x))\n",
    "print(\"Tanh:\", tanh(x))\n",
    "print(\"ReLU:\", relu(x))"
   ]
  }
 ],
 "metadata": {
  "kernelspec": {
   "display_name": "Python 3",
   "language": "python",
   "name": "python3"
  },
  "language_info": {
   "codemirror_mode": {
    "name": "ipython",
    "version": 3
   },
   "file_extension": ".py",
   "mimetype": "text/x-python",
   "name": "python",
   "nbconvert_exporter": "python",
   "pygments_lexer": "ipython3",
   "version": "3.12.3"
  }
 },
 "nbformat": 4,
 "nbformat_minor": 2
}
