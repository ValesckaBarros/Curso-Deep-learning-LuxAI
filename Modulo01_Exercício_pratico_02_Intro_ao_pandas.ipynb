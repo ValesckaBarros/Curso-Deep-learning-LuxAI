{
 "cells": [
  {
   "cell_type": "code",
   "execution_count": 1,
   "metadata": {},
   "outputs": [],
   "source": [
    "import pandas as pd"
   ]
  },
  {
   "cell_type": "code",
   "execution_count": 9,
   "metadata": {},
   "outputs": [
    {
     "name": "stdout",
     "output_type": "stream",
     "text": [
      "  Fabricante       Cor  Quilometragem  Portas     Preco\n",
      "0     Toyota    Branco         150043       4   24000.0\n",
      "1      Honda  Vermelho          87899       4   25000.0\n",
      "2     Toyota      Azul          32549       3   27000.0\n",
      "3        BMW     Preto          11179       5  122000.0\n",
      "4     Nissan    Branco         213095       4   13500.0\n",
      "5     Toyota     Verde          99213       4   14500.0\n",
      "6      Honda      Azul          45698       4   17500.0\n",
      "7      Honda      Azul          54738       4   27000.0\n",
      "8     Toyota    Branco          60000       4   26250.0\n",
      "9     Nissan    Branco          31600       4   19700.0\n",
      "Primeiras 5 linhas do dataframe:\n",
      "  Fabricante       Cor  Quilometragem  Portas     Preco\n",
      "0     Toyota    Branco         150043       4   24000.0\n",
      "1      Honda  Vermelho          87899       4   25000.0\n",
      "2     Toyota      Azul          32549       3   27000.0\n",
      "3        BMW     Preto          11179       5  122000.0\n",
      "4     Nissan    Branco         213095       4   13500.0\n"
     ]
    }
   ],
   "source": [
    "# 01 - Carregue o CSV em um dataframe e visualize os dados imprimindo as 5 primeiras linhas do dataframe\n",
    "df = pd.read_csv('venda-de-carros-formatado.csv')  \n",
    "print(df)\n",
    "print(\"Primeiras 5 linhas do dataframe:\")\n",
    "print(df.head())"
   ]
  },
  {
   "cell_type": "code",
   "execution_count": 5,
   "metadata": {},
   "outputs": [
    {
     "name": "stdout",
     "output_type": "stream",
     "text": [
      "\n",
      "Nomes das colunas:\n",
      "Index(['Fabricante', 'Cor', 'Quilometragem', 'Portas', 'Preco'], dtype='object')\n"
     ]
    }
   ],
   "source": [
    "# 02 - Obtenha o nome de todas as colunas do dataframe\n",
    "print(\"\\nNomes das colunas:\")\n",
    "print(df.columns)"
   ]
  },
  {
   "cell_type": "code",
   "execution_count": 7,
   "metadata": {},
   "outputs": [
    {
     "name": "stdout",
     "output_type": "stream",
     "text": [
      "\n",
      "Informações estatísticas:\n",
      "       Quilometragem     Portas         Preco\n",
      "count      10.000000  10.000000      10.00000\n",
      "mean    78601.400000   4.000000   31645.00000\n",
      "std     61983.471735   0.471405   32153.87008\n",
      "min     11179.000000   3.000000   13500.00000\n",
      "25%     35836.250000   4.000000   18050.00000\n",
      "50%     57369.000000   4.000000   24500.00000\n",
      "75%     96384.500000   4.000000   26812.50000\n",
      "max    213095.000000   5.000000  122000.00000\n"
     ]
    }
   ],
   "source": [
    "# 03 - Exiba as informações estatísticas sobre os dados\n",
    "print(\"\\nInformações estatísticas:\")\n",
    "print(df.describe())"
   ]
  },
  {
   "cell_type": "code",
   "execution_count": 8,
   "metadata": {},
   "outputs": [
    {
     "name": "stdout",
     "output_type": "stream",
     "text": [
      "\n",
      "Dataframe após remoção de dados faltantes (NaN):\n",
      "  Fabricante       Cor  Quilometragem  Portas     Preco\n",
      "0     Toyota    Branco         150043       4   24000.0\n",
      "1      Honda  Vermelho          87899       4   25000.0\n",
      "2     Toyota      Azul          32549       3   27000.0\n",
      "3        BMW     Preto          11179       5  122000.0\n",
      "4     Nissan    Branco         213095       4   13500.0\n"
     ]
    }
   ],
   "source": [
    "# 04 - Verifique as entradas válidas e remova linhas com dados faltantes (NaN)\n",
    "df = df.dropna()\n",
    "print(\"\\nDataframe após remoção de dados faltantes (NaN):\")\n",
    "print(df.head())"
   ]
  },
  {
   "cell_type": "code",
   "execution_count": 22,
   "metadata": {},
   "outputs": [
    {
     "name": "stdout",
     "output_type": "stream",
     "text": [
      "\n",
      "Tipo da coluna 'preco' após conversão:\n",
      "float64\n"
     ]
    },
    {
     "name": "stderr",
     "output_type": "stream",
     "text": [
      "<>:4: SyntaxWarning: invalid escape sequence '\\$'\n",
      "<>:4: SyntaxWarning: invalid escape sequence '\\$'\n",
      "C:\\Users\\vrmsb\\AppData\\Local\\Temp\\ipykernel_23940\\2956283268.py:4: SyntaxWarning: invalid escape sequence '\\$'\n",
      "  df['preco'] = df['Preco'].replace('[\\$,]', '', regex=True).astype(float)\n"
     ]
    }
   ],
   "source": [
    "# 05 - Ajuste as colunas para que contenham o tipo correto (e.g., preço = float)\n",
    "# Supondo que a coluna de preço seja do tipo string e precisa ser convertida para float\n",
    "# Substitua 'preco' pelo nome da coluna de preço do seu dataframe\n",
    "df['preco'] = df['Preco'].replace('[\\$,]', '', regex=True).astype(float)\n",
    "print(\"\\nTipo da coluna 'preco' após conversão:\")\n",
    "print(df['Preco'].dtype)"
   ]
  },
  {
   "cell_type": "code",
   "execution_count": 21,
   "metadata": {},
   "outputs": [
    {
     "name": "stdout",
     "output_type": "stream",
     "text": [
      "\n",
      "Dataframe com carros de 4 portas:\n",
      "  Fabricante       Cor  Quilometragem  Portas    Preco\n",
      "0     Toyota    Branco         150043       4  24000.0\n",
      "1      Honda  Vermelho          87899       4  25000.0\n",
      "4     Nissan    Branco         213095       4  13500.0\n",
      "5     Toyota     Verde          99213       4  14500.0\n",
      "6      Honda      Azul          45698       4  17500.0\n"
     ]
    }
   ],
   "source": [
    "# 06 - Obtenha um dataframe que contenha apenas carros com 4 portas\n",
    "# Substitua 'portas' pelo nome da coluna que indica o número de portas\n",
    "df_4_portas = df[df['Portas'] == 4]\n",
    "print(\"\\nDataframe com carros de 4 portas:\")\n",
    "print(df_4_portas.head())"
   ]
  },
  {
   "cell_type": "code",
   "execution_count": 26,
   "metadata": {},
   "outputs": [
    {
     "name": "stdout",
     "output_type": "stream",
     "text": [
      "Tamanho do dataframe com carros de 4 portas:\n",
      "(8, 5)\n"
     ]
    }
   ],
   "source": [
    "# 07 - Imprima o tamanho do dataframe\n",
    "print(\"Tamanho do dataframe com carros de 4 portas:\")\n",
    "print(df_4_portas.shape)\n",
    "\n"
   ]
  },
  {
   "cell_type": "code",
   "execution_count": 25,
   "metadata": {},
   "outputs": [
    {
     "name": "stdout",
     "output_type": "stream",
     "text": [
      "Item da segunda linha:\n",
      "Fabricante          Honda\n",
      "Cor              Vermelho\n",
      "Quilometragem       87899\n",
      "Portas                  4\n",
      "Preco             25000.0\n",
      "preco             25000.0\n",
      "Name: 1, dtype: object\n"
     ]
    }
   ],
   "source": [
    "# 08 - Obtenha o item da segunda linha\n",
    "print(\"Item da segunda linha:\")\n",
    "print(df.iloc[1])"
   ]
  },
  {
   "cell_type": "code",
   "execution_count": 24,
   "metadata": {},
   "outputs": [
    {
     "name": "stdout",
     "output_type": "stream",
     "text": [
      "Média das quilometragens:\n",
      "78601.4\n"
     ]
    }
   ],
   "source": [
    "# 09 - Obtenha a média das quilometragens existentes no conjunto\n",
    "# Substitua 'quilometragem' pelo nome da coluna que contém os valores de quilometragem\n",
    "media_quilometragem = df['Quilometragem'].mean()\n",
    "print(\"Média das quilometragens:\")\n",
    "print(media_quilometragem)"
   ]
  }
 ],
 "metadata": {
  "kernelspec": {
   "display_name": "Python 3",
   "language": "python",
   "name": "python3"
  },
  "language_info": {
   "codemirror_mode": {
    "name": "ipython",
    "version": 3
   },
   "file_extension": ".py",
   "mimetype": "text/x-python",
   "name": "python",
   "nbconvert_exporter": "python",
   "pygments_lexer": "ipython3",
   "version": "3.12.3"
  }
 },
 "nbformat": 4,
 "nbformat_minor": 2
}
